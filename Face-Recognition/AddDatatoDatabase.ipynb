{
 "cells": [
  {
   "cell_type": "code",
   "execution_count": 1,
   "id": "9a0c892d",
   "metadata": {},
   "outputs": [],
   "source": [
    "import firebase_admin \n",
    "from firebase_admin import credentials \n",
    "from firebase_admin import db \n",
    " \n",
    "cred = credentials.Certificate(\"serviceAccountKey.json\")  #create ur own private key using firebase database\n",
    "firebase_admin.initialize_app(cred, { \n",
    "    'databaseURL': \"https://faceattendencerealtime-6a0b8-default-rtdb.firebaseio.com/\"   # create ur own databsee link \n",
    "}) \n",
    " \n",
    "ref = db.reference('Students') \n",
    " \n",
    "data = { \n",
    "    \"321654\": \n",
    "        { \n",
    "            \"name\": \"gourav  \", \n",
    "            \"major\": \"c++\", \n",
    "            \"starting_year\": 2021, \n",
    "            \"total_attendance\":3, \n",
    "            \"standing\": \"G\", \n",
    "            \"year\": 4, \n",
    "            \"last_attendance_time\": \"2022-12-11 00:54:34\" \n",
    "        }, \n",
    "    \"601070\": \n",
    "        { \n",
    "            \"name\": \"sudhr  lalotra \", \n",
    "            \"major\": \"java\", \n",
    "            \"starting_year\": 2021, \n",
    "            \"total_attendance\":4, \n",
    "            \"standing\": \"G\", \n",
    "            \"year\": 5, \n",
    "            \"last_attendance_time\": \"2022-12-11 00:54:34\" \n",
    "        }, \n",
    "    \"121070\": \n",
    "        { \n",
    "            \"name\": \"sudhir\", \n",
    "            \"major\": \"Economics\", \n",
    "            \"starting_year\": 2021, \n",
    "            \"total_attendance\": 12, \n",
    "            \"standing\": \"B\", \n",
    "            \"year\": 1, \n",
    "            \"last_attendance_time\": \"2022-12-11 00:54:34\" \n",
    "        } \n",
    "    \n",
    "     \n",
    "     \n",
    "     \n",
    "} \n",
    " \n",
    "for key, value in data.items(): \n",
    "    ref.child(key).set(value)"
   ]
  },
  {
   "cell_type": "code",
   "execution_count": null,
   "id": "b723ee58",
   "metadata": {},
   "outputs": [],
   "source": []
  },
  {
   "cell_type": "code",
   "execution_count": null,
   "id": "06178222",
   "metadata": {},
   "outputs": [],
   "source": []
  }
 ],
 "metadata": {
  "kernelspec": {
   "display_name": "Python 3 (ipykernel)",
   "language": "python",
   "name": "python3"
  },
  "language_info": {
   "codemirror_mode": {
    "name": "ipython",
    "version": 3
   },
   "file_extension": ".py",
   "mimetype": "text/x-python",
   "name": "python",
   "nbconvert_exporter": "python",
   "pygments_lexer": "ipython3",
   "version": "3.10.9"
  }
 },
 "nbformat": 4,
 "nbformat_minor": 5
}
