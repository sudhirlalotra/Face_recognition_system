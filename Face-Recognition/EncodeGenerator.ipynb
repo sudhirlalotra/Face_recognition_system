{
 "cells": [
  {
   "cell_type": "code",
   "execution_count": 1,
   "id": "13face3a",
   "metadata": {
    "scrolled": true
   },
   "outputs": [
    {
     "name": "stdout",
     "output_type": "stream",
     "text": [
      "['121070.png', '321654.png', '601070.png']\n",
      "['121070', '321654', '601070']\n",
      "Encoding Started ...\n",
      "No face found in an image.\n",
      "Encoding Complete\n",
      "File Saved\n"
     ]
    }
   ],
   "source": [
    "import cv2\n",
    "import face_recognition\n",
    "import pickle\n",
    "import os\n",
    "import firebase_admin\n",
    "from firebase_admin import credentials\n",
    "from firebase_admin import db\n",
    "from firebase_admin import  storage\n",
    "\n",
    "cred = credentials.Certificate(\"serviceAccountKey.json\")\n",
    "firebase_admin.initialize_app(cred, {\n",
    "    'databaseURL': \"https://faceattendencerealtime-6a0b8-default-rtdb.firebaseio.com/\",\n",
    "    'storageBucket': \"faceattendencerealtime-6a0b8.appspot.com\"\n",
    "})\n",
    "\n",
    "\n",
    "# Importing student images\n",
    "folderPath = 'Images'\n",
    "pathList = os.listdir(folderPath)\n",
    "print(pathList)\n",
    "imgList = []\n",
    "studentIds = []\n",
    "for path in pathList:\n",
    "    imgList.append(cv2.imread(os.path.join(folderPath, path)))\n",
    "    studentIds.append(os.path.splitext(path)[0])\n",
    "\n",
    "    fileName = f'{folderPath}/{path}'\n",
    "    bucket = storage.bucket()\n",
    "    blob = bucket.blob(fileName)\n",
    "    blob.upload_from_filename(fileName)\n",
    "\n",
    "\n",
    "    # print(path)\n",
    "        # print(os.path.splitext(path)[0])\n",
    "print(studentIds)\n",
    "\n",
    "\n",
    "def findEncodings(imagesList):\n",
    "    encodeList = []\n",
    "    for img in imagesList:\n",
    "        img = cv2.cvtColor(img, cv2.COLOR_BGR2RGB)\n",
    "        face_encodings = face_recognition.face_encodings(img)\n",
    "        if len(face_encodings) > 0:\n",
    "            encodeList.append(face_encodings[0])\n",
    "        else:\n",
    "            print(\"No face found in an image.\")\n",
    "    return encodeList\n",
    "\n",
    "# Example usage:\n",
    "# Assuming imgList and studentIds are defined elsewhere\n",
    "# imgList = [...] # List of images\n",
    "# studentIds = [...] # List of corresponding student IDs\n",
    "\n",
    "print(\"Encoding Started ...\")\n",
    "encodeListKnown = findEncodings(imgList)\n",
    "encodeListKnownWithIds = [encodeListKnown, studentIds]\n",
    "print(\"Encoding Complete\")\n",
    "\n",
    "file = open(\"EncodeFile.p\", 'wb')   #encode file\n",
    "pickle.dump(encodeListKnownWithIds, file)\n",
    "file.close()\n",
    "print(\"File Saved\")"
   ]
  },
  {
   "cell_type": "code",
   "execution_count": null,
   "id": "144283a9",
   "metadata": {},
   "outputs": [],
   "source": []
  },
  {
   "cell_type": "code",
   "execution_count": null,
   "id": "9aa0b8e5",
   "metadata": {},
   "outputs": [],
   "source": []
  }
 ],
 "metadata": {
  "kernelspec": {
   "display_name": "Python 3 (ipykernel)",
   "language": "python",
   "name": "python3"
  },
  "language_info": {
   "codemirror_mode": {
    "name": "ipython",
    "version": 3
   },
   "file_extension": ".py",
   "mimetype": "text/x-python",
   "name": "python",
   "nbconvert_exporter": "python",
   "pygments_lexer": "ipython3",
   "version": "3.10.9"
  }
 },
 "nbformat": 4,
 "nbformat_minor": 5
}
